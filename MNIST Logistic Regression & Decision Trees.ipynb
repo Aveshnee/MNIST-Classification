{
 "cells": [
  {
   "cell_type": "code",
   "execution_count": 52,
   "metadata": {},
   "outputs": [],
   "source": [
    "# DS L3T08\n",
    "# Capstone I - Classification\n",
    "\n",
    "# MNIST Logistic Regression & Decision Trees"
   ]
  },
  {
   "cell_type": "code",
   "execution_count": 53,
   "metadata": {},
   "outputs": [],
   "source": [
    "# Import libraries\n",
    "import numpy as np\n",
    "import pandas as pd\n",
    "\n",
    "from sklearn.datasets import make_classification\n",
    "from sklearn.model_selection import train_test_split\n",
    "from sklearn.metrics import accuracy_score\n",
    "from sklearn import preprocessing\n",
    "\n",
    "from sklearn.tree import DecisionTreeClassifier\n",
    "from sklearn.linear_model import LogisticRegression\n",
    "from sklearn.metrics import confusion_matrix, f1_score, precision_score, recall_score\n",
    "\n",
    "from sklearn import metrics\n",
    "import matplotlib.pyplot as plt\n",
    "%matplotlib inline"
   ]
  },
  {
   "cell_type": "code",
   "execution_count": 54,
   "metadata": {},
   "outputs": [],
   "source": [
    "# Load the dataset\n",
    "from sklearn.datasets import fetch_openml\n",
    "mnist = fetch_openml(name = 'mnist_784')"
   ]
  },
  {
   "cell_type": "markdown",
   "metadata": {},
   "source": [
    "The MNIST database of handwritten digits has a training set of 60,000 examples, and a test set of 10,000 examples. It is a subset of a larger set available from NIST. The digits have been size-normalized and centered in a fixed-size image."
   ]
  },
  {
   "cell_type": "code",
   "execution_count": 55,
   "metadata": {},
   "outputs": [
    {
     "name": "stdout",
     "output_type": "stream",
     "text": [
      "Image Data Shape (70000, 784)\n",
      "Label Data Shape (70000,)\n"
     ]
    }
   ],
   "source": [
    "# Print to show there are 1797 images (8 by 8 images for a dimensionality of 64)\n",
    "print(\"Image Data Shape\" , mnist.data.shape)\n",
    "\n",
    "# Print to show there are 1797 labels (integers from 0-9)\n",
    "print(\"Label Data Shape\", mnist.target.shape)"
   ]
  },
  {
   "cell_type": "markdown",
   "metadata": {},
   "source": [
    "# Create features and labels. Split the data into a training, development and test set."
   ]
  },
  {
   "cell_type": "code",
   "execution_count": 56,
   "metadata": {},
   "outputs": [],
   "source": [
    "# Create x (independent) and y (dependent) variables\n",
    "X = mnist['data']\n",
    "y = mnist['target']"
   ]
  },
  {
   "cell_type": "code",
   "execution_count": 57,
   "metadata": {},
   "outputs": [],
   "source": [
    "# Normalise data\n",
    "\n",
    "# convert y into an int datatype\n",
    "y = y.astype('int32')\n",
    "\n",
    "# Standardise data by dividing by 255\n",
    "X = X/ 255.0 # values between 0 and 1"
   ]
  },
  {
   "cell_type": "code",
   "execution_count": 58,
   "metadata": {},
   "outputs": [
    {
     "name": "stdout",
     "output_type": "stream",
     "text": [
      "Training data:  (44800, 784) (44800,)\n",
      "Test data:  (14000, 784) (14000,)\n",
      "Validation data:  (11200, 784) (11200,)\n"
     ]
    }
   ],
   "source": [
    "# Train, dev and test split\n",
    "\n",
    "# Create a train test dev/cv split (0.6, 0.2, 0.2)\n",
    "SEED=21\n",
    "\n",
    "X_train, X_test, y_train, y_test = train_test_split(X, y, test_size=.2, random_state=SEED)\n",
    "X_train, X_val, y_train, y_val = train_test_split(X_train, y_train, test_size=.2, random_state=SEED)\n",
    "\n",
    "print (\"Training data: \", X_train.shape, y_train.shape)\n",
    "print (\"Test data: \", X_test.shape, y_test.shape)\n",
    "print (\"Validation data: \", X_val.shape, y_val.shape)"
   ]
  },
  {
   "cell_type": "markdown",
   "metadata": {},
   "source": [
    "# Two Machine Learning Algos chosen\n"
   ]
  },
  {
   "cell_type": "markdown",
   "metadata": {},
   "source": [
    "# 1) Decision Trees"
   ]
  },
  {
   "cell_type": "markdown",
   "metadata": {},
   "source": [
    "A) Decision Trees chosen as using a decision tree for classification is an alternative methodology to logistic regression. Can handle data of different types, including continuous, categorical, ordinal, and binary. Transformations of the data are not required. Can be useful for detecting important variables, interactions, and identifying outliers.\n",
    "(https://webfocusinfocenter.informationbuilders.com/wfappent/TLs/TL_rstat/source/DecisionTree47.htm)"
   ]
  },
  {
   "cell_type": "code",
   "execution_count": 29,
   "metadata": {},
   "outputs": [
    {
     "name": "stdout",
     "output_type": "stream",
     "text": [
      "At depth: 45\n",
      "Decision Tree Accuracy on the Train set (without pruning):  1.0\n",
      "Decision Tree Accuracy on the Dev set(without pruning): 0.8641071428571429\n"
     ]
    }
   ],
   "source": [
    "# Train and Fit the Decision Tree model\n",
    "# without pruning\n",
    "\n",
    "unpruned = DecisionTreeClassifier(max_depth=None)\n",
    "unpruned.fit(X_train, y_train)\n",
    "\n",
    "print(\"At depth:\", unpruned.tree_.max_depth)\n",
    "print(\"Decision Tree Accuracy on the Train set (without pruning): \", unpruned.score(X_train, y_train))\n",
    "print(\"Decision Tree Accuracy on the Dev set(without pruning):\", unpruned.score(X_val, y_val))"
   ]
  },
  {
   "cell_type": "code",
   "execution_count": 30,
   "metadata": {},
   "outputs": [],
   "source": [
    "# Build model and append scores to a list\n",
    "pruned_depths = range(2, 15)\n",
    "\n",
    "# Stored in a list\n",
    "pruned_scores_train = []\n",
    "pruned_scores_dev = []\n",
    "\n",
    "# Create and fit the model\n",
    "for d in pruned_depths:\n",
    "  clf = DecisionTreeClassifier(max_depth=d)\n",
    "  clf.fit(X_train, y_train)\n",
    "    \n",
    "# Append the scores in the list\n",
    "  score = clf.score(X_train, y_train)\n",
    "  pruned_scores_train.append(score)\n",
    "    \n",
    "  score = clf.score(X_val, y_val)\n",
    "  pruned_scores_dev.append(score)"
   ]
  },
  {
   "cell_type": "markdown",
   "metadata": {},
   "source": [
    "B) Parameter to tune - Pruning depth\n",
    "\n",
    "Pruning depth chosen because it simplifies, compresses and optimises the Decision tree by removing sections of the tree that are uncritical and redundant to classify. "
   ]
  },
  {
   "cell_type": "code",
   "execution_count": 31,
   "metadata": {},
   "outputs": [
    {
     "data": {
      "text/plain": [
       "<matplotlib.legend.Legend at 0x205ae2bec48>"
      ]
     },
     "execution_count": 31,
     "metadata": {},
     "output_type": "execute_result"
    },
    {
     "data": {
      "image/png": "[encoded data removed]",
      "text/plain": [
       "<Figure size 432x288 with 1 Axes>"
      ]
     },
     "metadata": {
      "needs_background": "light"
     },
     "output_type": "display_data"
    }
   ],
   "source": [
    "# Plot learning curves from pruned scores\n",
    "fig, ax = plt.subplots()\n",
    "ax.plot(pruned_depths, pruned_scores_train)\n",
    "ax.plot(pruned_depths, pruned_scores_dev)\n",
    "\n",
    "plt.xlabel(\"Max_depth values\")\n",
    "plt.ylabel(\"Accuracy scores\")\n",
    "plt.title(\"Learning curves\")\n",
    "\n",
    "import matplotlib.patches as mpatches\n",
    "orange = mpatches.Patch(color='orange', label='Development data')\n",
    "blue = mpatches.Patch(color='blue', label='Training data')\n",
    "plt.legend(handles=[orange, blue])"
   ]
  },
  {
   "cell_type": "markdown",
   "metadata": {},
   "source": [
    "Training curve performs better however the performance of the Dev dataset curve is almost as good. Best perormance reached at a depth of 13."
   ]
  },
  {
   "cell_type": "markdown",
   "metadata": {},
   "source": [
    "C) Choose which value for the parameter to set for testing on the test data"
   ]
  },
  {
   "cell_type": "code",
   "execution_count": 32,
   "metadata": {},
   "outputs": [
    {
     "name": "stdout",
     "output_type": "stream",
     "text": [
      "Best performance reached at depth of:  14\n"
     ]
    },
    {
     "data": {
      "text/plain": [
       "DecisionTreeClassifier(ccp_alpha=0.0, class_weight=None, criterion='gini',\n",
       "                       max_depth=14, max_features=None, max_leaf_nodes=None,\n",
       "                       min_impurity_decrease=0.0, min_impurity_split=None,\n",
       "                       min_samples_leaf=1, min_samples_split=2,\n",
       "                       min_weight_fraction_leaf=0.0, presort='deprecated',\n",
       "                       random_state=None, splitter='best')"
      ]
     },
     "execution_count": 32,
     "metadata": {},
     "output_type": "execute_result"
    }
   ],
   "source": [
    "# Identify max_depth\n",
    "best_depth = pruned_depths[np.argmax(pruned_scores_dev)]\n",
    "print('Best performance reached at depth of: ', best_depth)\n",
    "\n",
    "# Stored in a list\n",
    "pruned_scores_test = []\n",
    "\n",
    "# Retrain the pruned model with best depth\n",
    "pruned = DecisionTreeClassifier(max_depth=best_depth)\n",
    "pruned.fit(X, y)"
   ]
  },
  {
   "cell_type": "code",
   "execution_count": 33,
   "metadata": {
    "scrolled": true
   },
   "outputs": [],
   "source": [
    "# Make predictions for test dataset\n",
    "y_pred = pruned.predict(X_test)\n",
    "\n",
    "# Store to the list\n",
    "score = pruned.score(X_test, y_pred)\n",
    "pruned_scores_test.append(score)"
   ]
  },
  {
   "cell_type": "code",
   "execution_count": 34,
   "metadata": {},
   "outputs": [
    {
     "name": "stdout",
     "output_type": "stream",
     "text": [
      "Decision Tree Accuracy (after pruning) on test data:  1.0\n"
     ]
    }
   ],
   "source": [
    "# Accuracy of the final model\n",
    "print(\"Decision Tree Accuracy (after pruning) on test data: \", pruned.score(X_test, y_pred))"
   ]
  },
  {
   "cell_type": "markdown",
   "metadata": {},
   "source": [
    "D) Confusion Matrix"
   ]
  },
  {
   "cell_type": "code",
   "execution_count": 35,
   "metadata": {},
   "outputs": [
    {
     "data": {
      "text/html": [
       "<div>\n",
       "<style scoped>\n",
       "    .dataframe tbody tr th:only-of-type {\n",
       "        vertical-align: middle;\n",
       "    }\n",
       "\n",
       "    .dataframe tbody tr th {\n",
       "        vertical-align: top;\n",
       "    }\n",
       "\n",
       "    .dataframe thead th {\n",
       "        text-align: right;\n",
       "    }\n",
       "</style>\n",
       "<table border=\"1\" class=\"dataframe\">\n",
       "  <thead>\n",
       "    <tr style=\"text-align: right;\">\n",
       "      <th></th>\n",
       "      <th>1</th>\n",
       "      <th>2</th>\n",
       "      <th>3</th>\n",
       "      <th>4</th>\n",
       "      <th>5</th>\n",
       "      <th>6</th>\n",
       "      <th>7</th>\n",
       "      <th>8</th>\n",
       "      <th>9</th>\n",
       "      <th>10</th>\n",
       "    </tr>\n",
       "  </thead>\n",
       "  <tbody>\n",
       "    <tr>\n",
       "      <th>1</th>\n",
       "      <td>1371</td>\n",
       "      <td>0</td>\n",
       "      <td>1</td>\n",
       "      <td>0</td>\n",
       "      <td>0</td>\n",
       "      <td>0</td>\n",
       "      <td>1</td>\n",
       "      <td>0</td>\n",
       "      <td>0</td>\n",
       "      <td>1</td>\n",
       "    </tr>\n",
       "    <tr>\n",
       "      <th>2</th>\n",
       "      <td>0</td>\n",
       "      <td>1569</td>\n",
       "      <td>3</td>\n",
       "      <td>2</td>\n",
       "      <td>5</td>\n",
       "      <td>2</td>\n",
       "      <td>1</td>\n",
       "      <td>2</td>\n",
       "      <td>0</td>\n",
       "      <td>0</td>\n",
       "    </tr>\n",
       "    <tr>\n",
       "      <th>3</th>\n",
       "      <td>4</td>\n",
       "      <td>4</td>\n",
       "      <td>1355</td>\n",
       "      <td>4</td>\n",
       "      <td>4</td>\n",
       "      <td>1</td>\n",
       "      <td>0</td>\n",
       "      <td>7</td>\n",
       "      <td>5</td>\n",
       "      <td>5</td>\n",
       "    </tr>\n",
       "    <tr>\n",
       "      <th>4</th>\n",
       "      <td>5</td>\n",
       "      <td>2</td>\n",
       "      <td>12</td>\n",
       "      <td>1354</td>\n",
       "      <td>8</td>\n",
       "      <td>17</td>\n",
       "      <td>4</td>\n",
       "      <td>7</td>\n",
       "      <td>10</td>\n",
       "      <td>9</td>\n",
       "    </tr>\n",
       "    <tr>\n",
       "      <th>5</th>\n",
       "      <td>3</td>\n",
       "      <td>1</td>\n",
       "      <td>1</td>\n",
       "      <td>2</td>\n",
       "      <td>1327</td>\n",
       "      <td>1</td>\n",
       "      <td>2</td>\n",
       "      <td>1</td>\n",
       "      <td>7</td>\n",
       "      <td>16</td>\n",
       "    </tr>\n",
       "    <tr>\n",
       "      <th>6</th>\n",
       "      <td>2</td>\n",
       "      <td>1</td>\n",
       "      <td>3</td>\n",
       "      <td>6</td>\n",
       "      <td>5</td>\n",
       "      <td>1240</td>\n",
       "      <td>8</td>\n",
       "      <td>1</td>\n",
       "      <td>5</td>\n",
       "      <td>4</td>\n",
       "    </tr>\n",
       "    <tr>\n",
       "      <th>7</th>\n",
       "      <td>5</td>\n",
       "      <td>4</td>\n",
       "      <td>2</td>\n",
       "      <td>1</td>\n",
       "      <td>2</td>\n",
       "      <td>4</td>\n",
       "      <td>1377</td>\n",
       "      <td>2</td>\n",
       "      <td>3</td>\n",
       "      <td>1</td>\n",
       "    </tr>\n",
       "    <tr>\n",
       "      <th>8</th>\n",
       "      <td>0</td>\n",
       "      <td>1</td>\n",
       "      <td>7</td>\n",
       "      <td>8</td>\n",
       "      <td>7</td>\n",
       "      <td>0</td>\n",
       "      <td>2</td>\n",
       "      <td>1411</td>\n",
       "      <td>1</td>\n",
       "      <td>10</td>\n",
       "    </tr>\n",
       "    <tr>\n",
       "      <th>9</th>\n",
       "      <td>1</td>\n",
       "      <td>11</td>\n",
       "      <td>10</td>\n",
       "      <td>3</td>\n",
       "      <td>9</td>\n",
       "      <td>5</td>\n",
       "      <td>4</td>\n",
       "      <td>1</td>\n",
       "      <td>1312</td>\n",
       "      <td>10</td>\n",
       "    </tr>\n",
       "    <tr>\n",
       "      <th>10</th>\n",
       "      <td>2</td>\n",
       "      <td>0</td>\n",
       "      <td>4</td>\n",
       "      <td>7</td>\n",
       "      <td>15</td>\n",
       "      <td>17</td>\n",
       "      <td>1</td>\n",
       "      <td>10</td>\n",
       "      <td>0</td>\n",
       "      <td>1319</td>\n",
       "    </tr>\n",
       "  </tbody>\n",
       "</table>\n",
       "</div>"
      ],
      "text/plain": [
       "       1     2     3     4     5     6     7     8     9    10\n",
       "1   1371     0     1     0     0     0     1     0     0     1\n",
       "2      0  1569     3     2     5     2     1     2     0     0\n",
       "3      4     4  1355     4     4     1     0     7     5     5\n",
       "4      5     2    12  1354     8    17     4     7    10     9\n",
       "5      3     1     1     2  1327     1     2     1     7    16\n",
       "6      2     1     3     6     5  1240     8     1     5     4\n",
       "7      5     4     2     1     2     4  1377     2     3     1\n",
       "8      0     1     7     8     7     0     2  1411     1    10\n",
       "9      1    11    10     3     9     5     4     1  1312    10\n",
       "10     2     0     4     7    15    17     1    10     0  1319"
      ]
     },
     "execution_count": 35,
     "metadata": {},
     "output_type": "execute_result"
    }
   ],
   "source": [
    "# Confusion matrix comparing the predictions to the gold labels\n",
    "from sklearn.metrics import confusion_matrix\n",
    "\n",
    "classes = ['1', '2', '3', '4', '5', '6', '7', '8', '9', '10']\n",
    "\n",
    "conf_mat = confusion_matrix(y_test, y_pred)\n",
    "cm_df = pd.DataFrame(conf_mat, columns=classes, index=classes)\n",
    "cm_df"
   ]
  },
  {
   "cell_type": "markdown",
   "metadata": {},
   "source": [
    "E) Report which classes the models struggle with the most"
   ]
  },
  {
   "cell_type": "code",
   "execution_count": 36,
   "metadata": {},
   "outputs": [
    {
     "name": "stdout",
     "output_type": "stream",
     "text": [
      "F1-score:  0.9739285714285715\n",
      "Hardest class the models struggled with: 10\n"
     ]
    }
   ],
   "source": [
    "# Determine the hardest class\n",
    "\n",
    "# Average f1 score\n",
    "av_f1 = f1_score(y_test, y_pred, average='micro')\n",
    "print('F1-score: ', av_f1)\n",
    "\n",
    "# F1-score per class\n",
    "f = f1_score(y_test, y_pred, average=None)\n",
    "lowest_score = min(f)\n",
    "hardest_class = classes[list(f).index(lowest_score)]\n",
    "print('Hardest class the models struggled with:', hardest_class)"
   ]
  },
  {
   "cell_type": "markdown",
   "metadata": {},
   "source": [
    "F) Accuracy, Precision, Recall and F1-score"
   ]
  },
  {
   "cell_type": "code",
   "execution_count": 37,
   "metadata": {},
   "outputs": [
    {
     "name": "stdout",
     "output_type": "stream",
     "text": [
      "              precision    recall  f1-score   support\n",
      "\n",
      "           0       0.99      1.00      0.99      6903\n",
      "           1       0.98      0.99      0.99      7877\n",
      "           2       0.97      0.98      0.97      6990\n",
      "           3       0.97      0.96      0.97      7141\n",
      "           4       0.96      0.97      0.97      6824\n",
      "           5       0.97      0.97      0.97      6313\n",
      "           6       0.98      0.98      0.98      6876\n",
      "           7       0.98      0.98      0.98      7293\n",
      "           8       0.98      0.96      0.97      6825\n",
      "           9       0.96      0.96      0.96      6958\n",
      "\n",
      "    accuracy                           0.97     70000\n",
      "   macro avg       0.97      0.97      0.97     70000\n",
      "weighted avg       0.97      0.97      0.97     70000\n",
      "\n"
     ]
    }
   ],
   "source": [
    "# Classification report\n",
    "from sklearn.metrics import classification_report\n",
    "print(classification_report(y, pruned.predict(X)))"
   ]
  },
  {
   "cell_type": "markdown",
   "metadata": {},
   "source": [
    "Report on the scores for Decision Trees model:\n",
    "\n",
    "The Decision Tree was applied on the Train and Dev data without pruning, using a flat dataset. The train and dev scores are good. After pruning the model, and making predications on X, we applied the learning y and on the test data.\n",
    "\n",
    "At depth: 45\n",
    "\n",
    "- Decision Tree Accuracy on the Train set (without pruning):  1.0\n",
    "\n",
    "- Decision Tree Accuracy on the Dev set(without pruning): 0.8641071428571429\n",
    "\n",
    "\n",
    "Best performance reached at depth of:  14  ---- Test score - Decision Tree Accuracy (after pruning) on test data:  1.0\n",
    "\n",
    "F1-score:  0.9739285714285715\n",
    "Hardest class the models struggled with: 10\n",
    "\n",
    "The Classification Report gives us a good indication of the other scores achieved."
   ]
  },
  {
   "cell_type": "markdown",
   "metadata": {},
   "source": [
    "# 2) Logistic Regression"
   ]
  },
  {
   "cell_type": "markdown",
   "metadata": {},
   "source": [
    "A) Logistic Regression chosen because it is used as a baseline when comparing other models. Logistic Regression is also used when most dependent variables are numeric."
   ]
  },
  {
   "cell_type": "code",
   "execution_count": 59,
   "metadata": {},
   "outputs": [
    {
     "name": "stderr",
     "output_type": "stream",
     "text": [
      "C:\\Users\\avesh\\anaconda3\\lib\\site-packages\\sklearn\\linear_model\\_logistic.py:940: ConvergenceWarning: lbfgs failed to converge (status=1):\n",
      "STOP: TOTAL NO. of ITERATIONS REACHED LIMIT.\n",
      "\n",
      "Increase the number of iterations (max_iter) or scale the data as shown in:\n",
      "    https://scikit-learn.org/stable/modules/preprocessing.html\n",
      "Please also refer to the documentation for alternative solver options:\n",
      "    https://scikit-learn.org/stable/modules/linear_model.html#logistic-regression\n",
      "  extra_warning_msg=_LOGISTIC_SOLVER_CONVERGENCE_MSG)\n"
     ]
    },
    {
     "data": {
      "text/plain": [
       "LogisticRegression(C=1.0, class_weight=None, dual=False, fit_intercept=True,\n",
       "                   intercept_scaling=1, l1_ratio=None, max_iter=100,\n",
       "                   multi_class='auto', n_jobs=None, penalty='none',\n",
       "                   random_state=None, solver='lbfgs', tol=0.0001, verbose=0,\n",
       "                   warm_start=False)"
      ]
     },
     "execution_count": 59,
     "metadata": {},
     "output_type": "execute_result"
    }
   ],
   "source": [
    "# Build and fit the Logistic Regression model\n",
    "log_reg = LogisticRegression( solver='lbfgs', penalty='none')\n",
    "log_reg.fit(X_train, y_train)"
   ]
  },
  {
   "cell_type": "markdown",
   "metadata": {},
   "source": [
    "B) Hyperparameter Tuning - Solvers\n",
    "\n",
    "Differences in performance or convergence with different Solvers:\n",
    "\n",
    "- solver in [‘newton-cg’, ‘lbfgs’, ‘liblinear’, ‘sag’, ‘saga’]\n",
    "Regularization (penalty) can sometimes be helpful.\n",
    "\n",
    "- penalty in [‘none’, ‘l1’, ‘l2’, ‘elasticnet’]\n",
    "Note: not all solvers support all regularization terms.\n",
    "\n",
    "- The C parameter controls the penality strength, which can also be effective.\n",
    "\n",
    "    C in [100, 10, 1.0, 0.1, 0.01]\n"
   ]
  },
  {
   "cell_type": "markdown",
   "metadata": {},
   "source": [
    "C) Choose which value for the parameter to set for testing on the test data"
   ]
  },
  {
   "cell_type": "code",
   "execution_count": 60,
   "metadata": {},
   "outputs": [
    {
     "name": "stderr",
     "output_type": "stream",
     "text": [
      "C:\\Users\\avesh\\anaconda3\\lib\\site-packages\\sklearn\\linear_model\\_sag.py:330: ConvergenceWarning: The max_iter was reached which means the coef_ did not converge\n",
      "  \"the coef_ did not converge\", ConvergenceWarning)\n",
      "C:\\Users\\avesh\\anaconda3\\lib\\site-packages\\sklearn\\linear_model\\_logistic.py:940: ConvergenceWarning: lbfgs failed to converge (status=1):\n",
      "STOP: TOTAL NO. of ITERATIONS REACHED LIMIT.\n",
      "\n",
      "Increase the number of iterations (max_iter) or scale the data as shown in:\n",
      "    https://scikit-learn.org/stable/modules/preprocessing.html\n",
      "Please also refer to the documentation for alternative solver options:\n",
      "    https://scikit-learn.org/stable/modules/linear_model.html#logistic-regression\n",
      "  extra_warning_msg=_LOGISTIC_SOLVER_CONVERGENCE_MSG)\n"
     ]
    }
   ],
   "source": [
    "# Build and fit using Solvers in Logistic Regression\n",
    "solvers = [\"newton-cg\", \"sag\", \"lbfgs\", \"liblinear\"]\n",
    "train_score, dev_score = [], []\n",
    "\n",
    "for solver in solvers:\n",
    "    log_reg = LogisticRegression(solver=solver, max_iter=200)\n",
    "    \n",
    "    log_reg.fit(X_train, y_train)\n",
    "     \n",
    "    # Append the scores in the list\n",
    "    score = log_reg.score(X_train, y_train)\n",
    "    train_score.append(score)\n",
    "    \n",
    "    score = log_reg.score(X_val, y_val)\n",
    "    dev_score.append(score)"
   ]
  },
  {
   "cell_type": "code",
   "execution_count": 69,
   "metadata": {},
   "outputs": [
    {
     "data": {
      "text/plain": [
       "<matplotlib.legend.Legend at 0x205aac21308>"
      ]
     },
     "execution_count": 69,
     "metadata": {},
     "output_type": "execute_result"
    },
    {
     "data": {
      "image/png": "[encoded data removed]",
      "text/plain": [
       "<Figure size 432x288 with 1 Axes>"
      ]
     },
     "metadata": {
      "needs_background": "light"
     },
     "output_type": "display_data"
    }
   ],
   "source": [
    "plt.plot(train_score)\n",
    "plt.plot(dev_score)\n",
    "\n",
    "plt.xlabel(\"Solver iterations\")\n",
    "plt.ylabel(\"Accuracy scores\")\n",
    "plt.title(\"Learning curves\")\n",
    "\n",
    "import matplotlib.patches as mpatches\n",
    "orange = mpatches.Patch(color='orange', label='Development data')\n",
    "blue = mpatches.Patch(color='blue', label='Training data')\n",
    "plt.legend(handles=[orange, blue])"
   ]
  },
  {
   "cell_type": "code",
   "execution_count": 70,
   "metadata": {},
   "outputs": [
    {
     "name": "stdout",
     "output_type": "stream",
     "text": [
      "Logistic Regression Accuracy Train set:  0.92921875\n",
      "Logistic Regression Accuracy Dev set: 0.9167857142857143\n"
     ]
    }
   ],
   "source": [
    "print(\"Logistic Regression Accuracy Train set: \", log_reg.score(X_train, y_train))\n",
    "print(\"Logistic Regression Accuracy Dev set:\", log_reg.score(X_val, y_val))"
   ]
  },
  {
   "cell_type": "code",
   "execution_count": 71,
   "metadata": {},
   "outputs": [],
   "source": [
    "# make predictions on test data\n",
    "y_pred = log_reg.predict(X_test)"
   ]
  },
  {
   "cell_type": "code",
   "execution_count": 72,
   "metadata": {},
   "outputs": [
    {
     "name": "stdout",
     "output_type": "stream",
     "text": [
      "Logistic Regression Model Accuracy (after tuning solver) on test data:  0.9170714285714285\n"
     ]
    }
   ],
   "source": [
    "# Evaluate the Model Accuracy\n",
    "\n",
    "# Comparing y test to y predict\n",
    "print(\"Logistic Regression Model Accuracy (after tuning solver) on test data: \", metrics.accuracy_score(y_test, y_pred))"
   ]
  },
  {
   "cell_type": "markdown",
   "metadata": {},
   "source": [
    "D) Confusion Matrix"
   ]
  },
  {
   "cell_type": "code",
   "execution_count": 73,
   "metadata": {},
   "outputs": [
    {
     "data": {
      "text/html": [
       "<div>\n",
       "<style scoped>\n",
       "    .dataframe tbody tr th:only-of-type {\n",
       "        vertical-align: middle;\n",
       "    }\n",
       "\n",
       "    .dataframe tbody tr th {\n",
       "        vertical-align: top;\n",
       "    }\n",
       "\n",
       "    .dataframe thead th {\n",
       "        text-align: right;\n",
       "    }\n",
       "</style>\n",
       "<table border=\"1\" class=\"dataframe\">\n",
       "  <thead>\n",
       "    <tr style=\"text-align: right;\">\n",
       "      <th></th>\n",
       "      <th>1</th>\n",
       "      <th>2</th>\n",
       "      <th>3</th>\n",
       "      <th>4</th>\n",
       "      <th>5</th>\n",
       "      <th>6</th>\n",
       "      <th>7</th>\n",
       "      <th>8</th>\n",
       "      <th>9</th>\n",
       "      <th>10</th>\n",
       "    </tr>\n",
       "  </thead>\n",
       "  <tbody>\n",
       "    <tr>\n",
       "      <th>1</th>\n",
       "      <td>1329</td>\n",
       "      <td>1</td>\n",
       "      <td>9</td>\n",
       "      <td>1</td>\n",
       "      <td>1</td>\n",
       "      <td>7</td>\n",
       "      <td>8</td>\n",
       "      <td>4</td>\n",
       "      <td>13</td>\n",
       "      <td>1</td>\n",
       "    </tr>\n",
       "    <tr>\n",
       "      <th>2</th>\n",
       "      <td>0</td>\n",
       "      <td>1541</td>\n",
       "      <td>8</td>\n",
       "      <td>2</td>\n",
       "      <td>3</td>\n",
       "      <td>3</td>\n",
       "      <td>5</td>\n",
       "      <td>2</td>\n",
       "      <td>16</td>\n",
       "      <td>4</td>\n",
       "    </tr>\n",
       "    <tr>\n",
       "      <th>3</th>\n",
       "      <td>10</td>\n",
       "      <td>14</td>\n",
       "      <td>1240</td>\n",
       "      <td>28</td>\n",
       "      <td>19</td>\n",
       "      <td>7</td>\n",
       "      <td>14</td>\n",
       "      <td>22</td>\n",
       "      <td>30</td>\n",
       "      <td>5</td>\n",
       "    </tr>\n",
       "    <tr>\n",
       "      <th>4</th>\n",
       "      <td>3</td>\n",
       "      <td>6</td>\n",
       "      <td>43</td>\n",
       "      <td>1268</td>\n",
       "      <td>4</td>\n",
       "      <td>36</td>\n",
       "      <td>9</td>\n",
       "      <td>12</td>\n",
       "      <td>27</td>\n",
       "      <td>20</td>\n",
       "    </tr>\n",
       "    <tr>\n",
       "      <th>5</th>\n",
       "      <td>4</td>\n",
       "      <td>4</td>\n",
       "      <td>13</td>\n",
       "      <td>2</td>\n",
       "      <td>1271</td>\n",
       "      <td>1</td>\n",
       "      <td>8</td>\n",
       "      <td>6</td>\n",
       "      <td>15</td>\n",
       "      <td>37</td>\n",
       "    </tr>\n",
       "    <tr>\n",
       "      <th>6</th>\n",
       "      <td>13</td>\n",
       "      <td>11</td>\n",
       "      <td>11</td>\n",
       "      <td>40</td>\n",
       "      <td>17</td>\n",
       "      <td>1108</td>\n",
       "      <td>26</td>\n",
       "      <td>7</td>\n",
       "      <td>31</td>\n",
       "      <td>11</td>\n",
       "    </tr>\n",
       "    <tr>\n",
       "      <th>7</th>\n",
       "      <td>10</td>\n",
       "      <td>1</td>\n",
       "      <td>7</td>\n",
       "      <td>1</td>\n",
       "      <td>9</td>\n",
       "      <td>15</td>\n",
       "      <td>1349</td>\n",
       "      <td>2</td>\n",
       "      <td>7</td>\n",
       "      <td>0</td>\n",
       "    </tr>\n",
       "    <tr>\n",
       "      <th>8</th>\n",
       "      <td>9</td>\n",
       "      <td>12</td>\n",
       "      <td>13</td>\n",
       "      <td>2</td>\n",
       "      <td>12</td>\n",
       "      <td>3</td>\n",
       "      <td>0</td>\n",
       "      <td>1365</td>\n",
       "      <td>4</td>\n",
       "      <td>27</td>\n",
       "    </tr>\n",
       "    <tr>\n",
       "      <th>9</th>\n",
       "      <td>14</td>\n",
       "      <td>37</td>\n",
       "      <td>16</td>\n",
       "      <td>44</td>\n",
       "      <td>12</td>\n",
       "      <td>38</td>\n",
       "      <td>15</td>\n",
       "      <td>11</td>\n",
       "      <td>1150</td>\n",
       "      <td>29</td>\n",
       "    </tr>\n",
       "    <tr>\n",
       "      <th>10</th>\n",
       "      <td>8</td>\n",
       "      <td>7</td>\n",
       "      <td>3</td>\n",
       "      <td>26</td>\n",
       "      <td>36</td>\n",
       "      <td>11</td>\n",
       "      <td>1</td>\n",
       "      <td>48</td>\n",
       "      <td>17</td>\n",
       "      <td>1218</td>\n",
       "    </tr>\n",
       "  </tbody>\n",
       "</table>\n",
       "</div>"
      ],
      "text/plain": [
       "       1     2     3     4     5     6     7     8     9    10\n",
       "1   1329     1     9     1     1     7     8     4    13     1\n",
       "2      0  1541     8     2     3     3     5     2    16     4\n",
       "3     10    14  1240    28    19     7    14    22    30     5\n",
       "4      3     6    43  1268     4    36     9    12    27    20\n",
       "5      4     4    13     2  1271     1     8     6    15    37\n",
       "6     13    11    11    40    17  1108    26     7    31    11\n",
       "7     10     1     7     1     9    15  1349     2     7     0\n",
       "8      9    12    13     2    12     3     0  1365     4    27\n",
       "9     14    37    16    44    12    38    15    11  1150    29\n",
       "10     8     7     3    26    36    11     1    48    17  1218"
      ]
     },
     "execution_count": 73,
     "metadata": {},
     "output_type": "execute_result"
    }
   ],
   "source": [
    "# Confusion matrix comparing the predictions to the gold labels\n",
    "from sklearn.metrics import confusion_matrix\n",
    "\n",
    "classes = ['1', '2', '3', '4', '5', '6', '7', '8', '9', '10']\n",
    "\n",
    "conf_mat = confusion_matrix(y_test, y_pred)\n",
    "cm_df = pd.DataFrame(conf_mat, columns=classes, index=classes)\n",
    "cm_df"
   ]
  },
  {
   "cell_type": "markdown",
   "metadata": {},
   "source": [
    "Looking at the confusion matrix is one way of inspecting performance in more detail. Looking at the f1 score,\n",
    "precision and recall are another way. The imperfect average f1 score tells us not all instances were classified perfectly, and the per-class f1 scores tells us which classes were the most problematic."
   ]
  },
  {
   "cell_type": "markdown",
   "metadata": {},
   "source": [
    "E) Report which classes the models struggle with the most"
   ]
  },
  {
   "cell_type": "code",
   "execution_count": 74,
   "metadata": {},
   "outputs": [
    {
     "name": "stdout",
     "output_type": "stream",
     "text": [
      "F1-score:  0.9170714285714285\n",
      "Hardest class: 9\n"
     ]
    }
   ],
   "source": [
    "# Determine the hardest class\n",
    "\n",
    "# Average f1 score\n",
    "av_f1 = f1_score(y_test, y_pred, average='micro')\n",
    "print('F1-score: ', av_f1)\n",
    "\n",
    "# F1-score per class\n",
    "f = f1_score(y_test, y_pred, average=None)\n",
    "lowest_score = min(f)\n",
    "hardest_class = classes[list(f).index(lowest_score)]\n",
    "print('Hardest class:', hardest_class)"
   ]
  },
  {
   "cell_type": "markdown",
   "metadata": {},
   "source": [
    "F)  Accuracy, Precision, Recall and F1-score"
   ]
  },
  {
   "cell_type": "code",
   "execution_count": 75,
   "metadata": {},
   "outputs": [
    {
     "name": "stdout",
     "output_type": "stream",
     "text": [
      "              precision    recall  f1-score   support\n",
      "\n",
      "           0       0.96      0.98      0.97      6903\n",
      "           1       0.95      0.98      0.96      7877\n",
      "           2       0.92      0.90      0.91      6990\n",
      "           3       0.91      0.89      0.90      7141\n",
      "           4       0.92      0.94      0.93      6824\n",
      "           5       0.90      0.88      0.89      6313\n",
      "           6       0.95      0.96      0.95      6876\n",
      "           7       0.94      0.94      0.94      7293\n",
      "           8       0.89      0.87      0.88      6825\n",
      "           9       0.90      0.89      0.90      6958\n",
      "\n",
      "    accuracy                           0.92     70000\n",
      "   macro avg       0.92      0.92      0.92     70000\n",
      "weighted avg       0.92      0.92      0.92     70000\n",
      "\n"
     ]
    }
   ],
   "source": [
    "# Classification report\n",
    "from sklearn.metrics import classification_report\n",
    "print(classification_report(y, log_reg.predict(X)))"
   ]
  },
  {
   "cell_type": "markdown",
   "metadata": {},
   "source": [
    "Report on the scores for Logistic Regression model using Solvers to tune:\n",
    "- Dev score - Logistic Regression Accuracy Train set:  0.92921875\n",
    "- Train score - Logistic Regression Accuracy Dev set: 0.9167857142857143\n",
    "- Test score - Logistic Regression Model Accuracy (after tuning solver):  0.9170714285714285\n",
    "\n",
    "F1-score:  0.9170714285714285\n",
    "Hardest class: 9\n",
    "\n",
    "Refer to Classification Report above"
   ]
  },
  {
   "cell_type": "markdown",
   "metadata": {},
   "source": [
    "# Comment on the differences in performance and report which model you believe did the best job."
   ]
  },
  {
   "cell_type": "markdown",
   "metadata": {},
   "source": [
    "Decision Tree with Pruning versus Logistic Regression with Solvers:\n",
    "\n",
    "- Looking at the summaries for each model, the Decision Tree seems to have performed slightly better in accuracies.\n",
    "\n",
    "The F1 score can be interpreted as a weighted average of the precision and recall values, where an F1 score reaches its best value at 1. The Decision tree F1 score performed better in this instance."
   ]
  },
  {
   "cell_type": "code",
   "execution_count": null,
   "metadata": {},
   "outputs": [],
   "source": []
  }
 ],
 "metadata": {
  "kernelspec": {
   "display_name": "Python 3",
   "language": "python",
   "name": "python3"
  },
  "language_info": {
   "codemirror_mode": {
    "name": "ipython",
    "version": 3
   },
   "file_extension": ".py",
   "mimetype": "text/x-python",
   "name": "python",
   "nbconvert_exporter": "python",
   "pygments_lexer": "ipython3",
   "version": "3.7.6"
  }
 },
 "nbformat": 4,
 "nbformat_minor": 4
}
